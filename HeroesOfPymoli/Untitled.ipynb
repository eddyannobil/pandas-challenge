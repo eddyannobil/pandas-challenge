{
 "cells": [
  {
   "cell_type": "code",
   "execution_count": 1,
   "metadata": {},
   "outputs": [],
   "source": [
    "#Dependencies\n",
    "import pandas as pd"
   ]
  },
  {
   "cell_type": "code",
   "execution_count": 2,
   "metadata": {},
   "outputs": [],
   "source": [
    "#Save path to set data to variable\n",
    "purchase_file = \"Resources/purchase_data.csv\"\n"
   ]
  },
  {
   "cell_type": "code",
   "execution_count": 3,
   "metadata": {},
   "outputs": [
    {
     "data": {
      "text/html": [
       "<div>\n",
       "<style scoped>\n",
       "    .dataframe tbody tr th:only-of-type {\n",
       "        vertical-align: middle;\n",
       "    }\n",
       "\n",
       "    .dataframe tbody tr th {\n",
       "        vertical-align: top;\n",
       "    }\n",
       "\n",
       "    .dataframe thead th {\n",
       "        text-align: right;\n",
       "    }\n",
       "</style>\n",
       "<table border=\"1\" class=\"dataframe\">\n",
       "  <thead>\n",
       "    <tr style=\"text-align: right;\">\n",
       "      <th></th>\n",
       "      <th>Purchase ID</th>\n",
       "      <th>SN</th>\n",
       "      <th>Age</th>\n",
       "      <th>Gender</th>\n",
       "      <th>Item ID</th>\n",
       "      <th>Item Name</th>\n",
       "      <th>Price</th>\n",
       "    </tr>\n",
       "  </thead>\n",
       "  <tbody>\n",
       "    <tr>\n",
       "      <th>0</th>\n",
       "      <td>0</td>\n",
       "      <td>Lisim78</td>\n",
       "      <td>20</td>\n",
       "      <td>Male</td>\n",
       "      <td>108</td>\n",
       "      <td>Extraction, Quickblade Of Trembling Hands</td>\n",
       "      <td>3.53</td>\n",
       "    </tr>\n",
       "    <tr>\n",
       "      <th>1</th>\n",
       "      <td>1</td>\n",
       "      <td>Lisovynya38</td>\n",
       "      <td>40</td>\n",
       "      <td>Male</td>\n",
       "      <td>143</td>\n",
       "      <td>Frenzied Scimitar</td>\n",
       "      <td>1.56</td>\n",
       "    </tr>\n",
       "    <tr>\n",
       "      <th>2</th>\n",
       "      <td>2</td>\n",
       "      <td>Ithergue48</td>\n",
       "      <td>24</td>\n",
       "      <td>Male</td>\n",
       "      <td>92</td>\n",
       "      <td>Final Critic</td>\n",
       "      <td>4.88</td>\n",
       "    </tr>\n",
       "    <tr>\n",
       "      <th>3</th>\n",
       "      <td>3</td>\n",
       "      <td>Chamassasya86</td>\n",
       "      <td>24</td>\n",
       "      <td>Male</td>\n",
       "      <td>100</td>\n",
       "      <td>Blindscythe</td>\n",
       "      <td>3.27</td>\n",
       "    </tr>\n",
       "    <tr>\n",
       "      <th>4</th>\n",
       "      <td>4</td>\n",
       "      <td>Iskosia90</td>\n",
       "      <td>23</td>\n",
       "      <td>Male</td>\n",
       "      <td>131</td>\n",
       "      <td>Fury</td>\n",
       "      <td>1.44</td>\n",
       "    </tr>\n",
       "  </tbody>\n",
       "</table>\n",
       "</div>"
      ],
      "text/plain": [
       "   Purchase ID             SN  Age Gender  Item ID  \\\n",
       "0            0        Lisim78   20   Male      108   \n",
       "1            1    Lisovynya38   40   Male      143   \n",
       "2            2     Ithergue48   24   Male       92   \n",
       "3            3  Chamassasya86   24   Male      100   \n",
       "4            4      Iskosia90   23   Male      131   \n",
       "\n",
       "                                   Item Name  Price  \n",
       "0  Extraction, Quickblade Of Trembling Hands   3.53  \n",
       "1                          Frenzied Scimitar   1.56  \n",
       "2                               Final Critic   4.88  \n",
       "3                                Blindscythe   3.27  \n",
       "4                                       Fury   1.44  "
      ]
     },
     "execution_count": 3,
     "metadata": {},
     "output_type": "execute_result"
    }
   ],
   "source": [
    "#Use Pandas to read data\n",
    "purchase_file_df = pd.read_csv(purchase_file)\n",
    "purchase_file_df.head()"
   ]
  },
  {
   "cell_type": "code",
   "execution_count": 4,
   "metadata": {
    "scrolled": true
   },
   "outputs": [
    {
     "name": "stdout",
     "output_type": "stream",
     "text": [
      "576\n"
     ]
    }
   ],
   "source": [
    "#Player Count(Total Number Of Players)\n",
    "Total_Players = len(purchase_file_df[\"SN\"].value_counts())\n",
    "print(Total_Players)\n"
   ]
  },
  {
   "cell_type": "code",
   "execution_count": 5,
   "metadata": {
    "scrolled": true,
    "slideshow": {
     "slide_type": "-"
    }
   },
   "outputs": [
    {
     "data": {
      "text/html": [
       "<div>\n",
       "<style scoped>\n",
       "    .dataframe tbody tr th:only-of-type {\n",
       "        vertical-align: middle;\n",
       "    }\n",
       "\n",
       "    .dataframe tbody tr th {\n",
       "        vertical-align: top;\n",
       "    }\n",
       "\n",
       "    .dataframe thead th {\n",
       "        text-align: right;\n",
       "    }\n",
       "</style>\n",
       "<table border=\"1\" class=\"dataframe\">\n",
       "  <thead>\n",
       "    <tr style=\"text-align: right;\">\n",
       "      <th></th>\n",
       "      <th>Total Players</th>\n",
       "    </tr>\n",
       "  </thead>\n",
       "  <tbody>\n",
       "    <tr>\n",
       "      <th>0</th>\n",
       "      <td>576</td>\n",
       "    </tr>\n",
       "  </tbody>\n",
       "</table>\n",
       "</div>"
      ],
      "text/plain": [
       "   Total Players\n",
       "0            576"
      ]
     },
     "execution_count": 5,
     "metadata": {},
     "output_type": "execute_result"
    }
   ],
   "source": [
    "#DataFrame displaying the Total Number Of Players\n",
    "frame_df=pd.DataFrame({\"Total Players\":[Total_Players]})\n",
    "frame_df"
   ]
  },
  {
   "cell_type": "code",
   "execution_count": 6,
   "metadata": {},
   "outputs": [
    {
     "data": {
      "text/plain": [
       "179"
      ]
     },
     "execution_count": 6,
     "metadata": {},
     "output_type": "execute_result"
    }
   ],
   "source": [
    "#Number Of Unique Items\n",
    "unique_items=len(purchase_file_df[\"Item Name\"].value_counts())\n",
    "unique_items              \n"
   ]
  },
  {
   "cell_type": "code",
   "execution_count": 7,
   "metadata": {},
   "outputs": [
    {
     "name": "stdout",
     "output_type": "stream",
     "text": [
      "3.0509871794871795\n"
     ]
    }
   ],
   "source": [
    "#Average Purchase Price\n",
    "average=purchase_file_df[\"Price\"].mean()\n",
    "print(average)"
   ]
  },
  {
   "cell_type": "code",
   "execution_count": 8,
   "metadata": {},
   "outputs": [
    {
     "name": "stdout",
     "output_type": "stream",
     "text": [
      "780\n"
     ]
    }
   ],
   "source": [
    "#Total Number Of Purchases\n",
    "total_purchases=len(purchase_file_df[\"Purchase ID\"].value_counts())\n",
    "print(total_purchases)\n"
   ]
  },
  {
   "cell_type": "code",
   "execution_count": 9,
   "metadata": {
    "slideshow": {
     "slide_type": "-"
    }
   },
   "outputs": [
    {
     "name": "stdout",
     "output_type": "stream",
     "text": [
      "2379.77\n"
     ]
    }
   ],
   "source": [
    "#Total Revenue\n",
    "total_revenue=purchase_file_df[\"Price\"].sum()\n",
    "print(total_revenue)"
   ]
  },
  {
   "cell_type": "code",
   "execution_count": 10,
   "metadata": {},
   "outputs": [
    {
     "name": "stdout",
     "output_type": "stream",
     "text": [
      "   Number of Unique Items  Average Price  Number of Purchases  Total Revenue\n",
      "0                     179       3.050987                  780        2379.77\n"
     ]
    }
   ],
   "source": [
    "#Summary DataFrame \n",
    "summary_df=pd.DataFrame({\"Number of Unique Items\":[unique_items],\"Average Price\":[average],\"Number of Purchases\":[total_purchases],\"Total Revenue\":[total_revenue]})\n",
    "print(summary_df)\n"
   ]
  },
  {
   "cell_type": "code",
   "execution_count": 11,
   "metadata": {
    "slideshow": {
     "slide_type": "-"
    }
   },
   "outputs": [
    {
     "data": {
      "text/html": [
       "<style  type=\"text/css\" >\n",
       "</style><table id=\"T_545fd690_df88_11eb_9afa_ac2b6ea6194e\" ><thead>    <tr>        <th class=\"blank level0\" ></th>        <th class=\"col_heading level0 col0\" >Number of Unique Items</th>        <th class=\"col_heading level0 col1\" >Average Price</th>        <th class=\"col_heading level0 col2\" >Number of Purchases</th>        <th class=\"col_heading level0 col3\" >Total Revenue</th>    </tr></thead><tbody>\n",
       "                <tr>\n",
       "                        <th id=\"T_545fd690_df88_11eb_9afa_ac2b6ea6194elevel0_row0\" class=\"row_heading level0 row0\" >0</th>\n",
       "                        <td id=\"T_545fd690_df88_11eb_9afa_ac2b6ea6194erow0_col0\" class=\"data row0 col0\" >179</td>\n",
       "                        <td id=\"T_545fd690_df88_11eb_9afa_ac2b6ea6194erow0_col1\" class=\"data row0 col1\" >$3.05</td>\n",
       "                        <td id=\"T_545fd690_df88_11eb_9afa_ac2b6ea6194erow0_col2\" class=\"data row0 col2\" >780</td>\n",
       "                        <td id=\"T_545fd690_df88_11eb_9afa_ac2b6ea6194erow0_col3\" class=\"data row0 col3\" >$2,379.77</td>\n",
       "            </tr>\n",
       "    </tbody></table>"
      ],
      "text/plain": [
       "<pandas.io.formats.style.Styler at 0x24dbe794630>"
      ]
     },
     "execution_count": 11,
     "metadata": {},
     "output_type": "execute_result"
    }
   ],
   "source": [
    "#Formatted Summary DataFrame\n",
    "summary_df.style.format({'Average Price': \"${:,.2f}\",'Total Revenue': \"${:,.2f}\"})"
   ]
  },
  {
   "cell_type": "code",
   "execution_count": 12,
   "metadata": {},
   "outputs": [
    {
     "name": "stdout",
     "output_type": "stream",
     "text": [
      "484\n"
     ]
    }
   ],
   "source": [
    "#Count Of Male Players\n",
    "male = purchase_file_df.loc[purchase_file_df[\"Gender\"]==\"Male\", :]\n",
    "male_count = len(male[\"SN\"].value_counts())\n",
    "print(male_count)\n"
   ]
  },
  {
   "cell_type": "code",
   "execution_count": 13,
   "metadata": {
    "scrolled": true
   },
   "outputs": [
    {
     "name": "stdout",
     "output_type": "stream",
     "text": [
      "81\n"
     ]
    }
   ],
   "source": [
    "#Count Of Female Players\n",
    "female = purchase_file_df.loc[purchase_file_df[\"Gender\"]==\"Female\", :]\n",
    "female_count = len(female[\"SN\"].value_counts())\n",
    "print(female_count)"
   ]
  },
  {
   "cell_type": "code",
   "execution_count": 14,
   "metadata": {},
   "outputs": [
    {
     "name": "stdout",
     "output_type": "stream",
     "text": [
      "11\n"
     ]
    }
   ],
   "source": [
    "#Count of Other/Non-Disclosed Players\n",
    "other = purchase_file_df.loc[purchase_file_df[\"Gender\"]==\"Other / Non-Disclosed\", :]\n",
    "other_count = len(other[\"SN\"].value_counts())\n",
    "print(other_count)"
   ]
  },
  {
   "cell_type": "code",
   "execution_count": 15,
   "metadata": {},
   "outputs": [
    {
     "name": "stdout",
     "output_type": "stream",
     "text": [
      "84.02777777777779\n"
     ]
    }
   ],
   "source": [
    "#Percentage Of Male Players\n",
    "male_percent = (male_count/(Total_Players)) * 100\n",
    "print(male_percent)\n",
    "\n",
    "\n"
   ]
  },
  {
   "cell_type": "code",
   "execution_count": 16,
   "metadata": {},
   "outputs": [
    {
     "name": "stdout",
     "output_type": "stream",
     "text": [
      "14.0625\n"
     ]
    }
   ],
   "source": [
    "#Percentage Of Female Players\n",
    "female_percent = (female_count/(Total_Players)) * 100\n",
    "print(female_percent)"
   ]
  },
  {
   "cell_type": "code",
   "execution_count": 17,
   "metadata": {},
   "outputs": [
    {
     "name": "stdout",
     "output_type": "stream",
     "text": [
      "1.9097222222222223\n"
     ]
    }
   ],
   "source": [
    "#Percentage Of Other Players\n",
    "other_percent = (other_count/(Total_Players)) * 100\n",
    "print(other_percent)"
   ]
  },
  {
   "cell_type": "code",
   "execution_count": 18,
   "metadata": {},
   "outputs": [
    {
     "data": {
      "text/html": [
       "<style  type=\"text/css\" >\n",
       "</style><table id=\"T_54ec21ae_df88_11eb_9112_ac2b6ea6194e\" ><thead>    <tr>        <th class=\"blank level0\" ></th>        <th class=\"col_heading level0 col0\" >Total Count</th>        <th class=\"col_heading level0 col1\" >Percentage Of Players</th>    </tr></thead><tbody>\n",
       "                <tr>\n",
       "                        <th id=\"T_54ec21ae_df88_11eb_9112_ac2b6ea6194elevel0_row0\" class=\"row_heading level0 row0\" >Male</th>\n",
       "                        <td id=\"T_54ec21ae_df88_11eb_9112_ac2b6ea6194erow0_col0\" class=\"data row0 col0\" >484</td>\n",
       "                        <td id=\"T_54ec21ae_df88_11eb_9112_ac2b6ea6194erow0_col1\" class=\"data row0 col1\" >84.03%</td>\n",
       "            </tr>\n",
       "            <tr>\n",
       "                        <th id=\"T_54ec21ae_df88_11eb_9112_ac2b6ea6194elevel0_row1\" class=\"row_heading level0 row1\" >Female</th>\n",
       "                        <td id=\"T_54ec21ae_df88_11eb_9112_ac2b6ea6194erow1_col0\" class=\"data row1 col0\" >81</td>\n",
       "                        <td id=\"T_54ec21ae_df88_11eb_9112_ac2b6ea6194erow1_col1\" class=\"data row1 col1\" >14.06%</td>\n",
       "            </tr>\n",
       "            <tr>\n",
       "                        <th id=\"T_54ec21ae_df88_11eb_9112_ac2b6ea6194elevel0_row2\" class=\"row_heading level0 row2\" >Other / Non-Disclosed</th>\n",
       "                        <td id=\"T_54ec21ae_df88_11eb_9112_ac2b6ea6194erow2_col0\" class=\"data row2 col0\" >11</td>\n",
       "                        <td id=\"T_54ec21ae_df88_11eb_9112_ac2b6ea6194erow2_col1\" class=\"data row2 col1\" >1.91%</td>\n",
       "            </tr>\n",
       "    </tbody></table>"
      ],
      "text/plain": [
       "<pandas.io.formats.style.Styler at 0x24de0d58ef0>"
      ]
     },
     "execution_count": 18,
     "metadata": {},
     "output_type": "execute_result"
    }
   ],
   "source": [
    "#DataFrame For Gender Demographics\n",
    "gender_df = pd.DataFrame({\"Total Count\":[male_count,female_count,other_count],\"Percentage Of Players\":[male_percent,female_percent,other_percent]},index=[\"Male\",\"Female\",\"Other / Non-Disclosed\"])\n",
    "gender_df\n",
    "gender_df.style.format({\"Percentage Of Players\": \"{:,.2f}%\"})"
   ]
  },
  {
   "cell_type": "code",
   "execution_count": 19,
   "metadata": {},
   "outputs": [
    {
     "name": "stdout",
     "output_type": "stream",
     "text": [
      "     Price  Gender\n",
      "0     3.53    Male\n",
      "1     1.56    Male\n",
      "2     4.88    Male\n",
      "3     3.27    Male\n",
      "4     1.44    Male\n",
      "..     ...     ...\n",
      "775   3.54  Female\n",
      "776   1.63    Male\n",
      "777   3.46    Male\n",
      "778   4.19    Male\n",
      "779   4.60    Male\n",
      "\n",
      "[780 rows x 2 columns]\n"
     ]
    }
   ],
   "source": [
    "#Purchasing Analysis By Gender\n",
    "price_df = purchase_file_df[[\"Price\", \"Gender\"]]\n",
    "print(price_df)\n"
   ]
  },
  {
   "cell_type": "code",
   "execution_count": 20,
   "metadata": {},
   "outputs": [
    {
     "name": "stdout",
     "output_type": "stream",
     "text": [
      "113\n"
     ]
    }
   ],
   "source": [
    "#Female Purchase Count\n",
    "female_purchase = price_df.loc[price_df[\"Gender\"]==\"Female\",\"Price\"].count()\n",
    "print(female_purchase)"
   ]
  },
  {
   "cell_type": "code",
   "execution_count": 21,
   "metadata": {},
   "outputs": [
    {
     "name": "stdout",
     "output_type": "stream",
     "text": [
      "652\n"
     ]
    }
   ],
   "source": [
    "#Male Purchase Count\n",
    "male_purchase = price_df.loc[price_df[\"Gender\"]==\"Male\",\"Price\"].count()\n",
    "print(male_purchase)"
   ]
  },
  {
   "cell_type": "code",
   "execution_count": 22,
   "metadata": {},
   "outputs": [
    {
     "name": "stdout",
     "output_type": "stream",
     "text": [
      "15\n"
     ]
    }
   ],
   "source": [
    "#Other/Non-Disclosed Purchase Count\n",
    "other_purchase = price_df.loc[price_df[\"Gender\"]==\"Other / Non-Disclosed\",\"Price\"].count()\n",
    "print(other_purchase)"
   ]
  },
  {
   "cell_type": "code",
   "execution_count": 23,
   "metadata": {},
   "outputs": [
    {
     "name": "stdout",
     "output_type": "stream",
     "text": [
      "3.203008849557522\n"
     ]
    }
   ],
   "source": [
    "#Female Average Purchase Price\n",
    "female_avg= price_df.loc[price_df[\"Gender\"]==\"Female\",\"Price\"].mean()\n",
    "print(female_avg)"
   ]
  },
  {
   "cell_type": "code",
   "execution_count": 24,
   "metadata": {},
   "outputs": [
    {
     "name": "stdout",
     "output_type": "stream",
     "text": [
      "3.0178527607361967\n"
     ]
    }
   ],
   "source": [
    "#Male Average Purchase Price\n",
    "male_avg= price_df.loc[price_df[\"Gender\"]==\"Male\",\"Price\"].mean() \n",
    "print(male_avg)"
   ]
  },
  {
   "cell_type": "code",
   "execution_count": 25,
   "metadata": {},
   "outputs": [
    {
     "name": "stdout",
     "output_type": "stream",
     "text": [
      "3.3459999999999996\n"
     ]
    }
   ],
   "source": [
    "#Other/Non-Disclosed Average Purchase Price\n",
    "other_avg= price_df.loc[price_df[\"Gender\"]==\"Other / Non-Disclosed\",\"Price\"].mean()\n",
    "print(other_avg)"
   ]
  },
  {
   "cell_type": "code",
   "execution_count": 26,
   "metadata": {},
   "outputs": [
    {
     "name": "stdout",
     "output_type": "stream",
     "text": [
      "361.94\n"
     ]
    }
   ],
   "source": [
    "#Female Total Purchase Value\n",
    "female_total = price_df.loc[price_df[\"Gender\"]==\"Female\",\"Price\"].sum()\n",
    "print(female_total)\n",
    "\n"
   ]
  },
  {
   "cell_type": "code",
   "execution_count": 27,
   "metadata": {},
   "outputs": [
    {
     "name": "stdout",
     "output_type": "stream",
     "text": [
      "1967.64\n"
     ]
    }
   ],
   "source": [
    "#Male Total Purchase Value\n",
    "male_total = price_df.loc[price_df[\"Gender\"]==\"Male\",\"Price\"].sum()\n",
    "print(male_total)"
   ]
  },
  {
   "cell_type": "code",
   "execution_count": 28,
   "metadata": {},
   "outputs": [
    {
     "name": "stdout",
     "output_type": "stream",
     "text": [
      "50.19\n"
     ]
    }
   ],
   "source": [
    "#Other/Non_Disclosed Total Purchase Value\n",
    "other_total = price_df.loc[price_df[\"Gender\"]==\"Other / Non-Disclosed\",\"Price\"].sum()\n",
    "print(other_total)"
   ]
  },
  {
   "cell_type": "code",
   "execution_count": 29,
   "metadata": {},
   "outputs": [
    {
     "name": "stdout",
     "output_type": "stream",
     "text": [
      "4.468395061728395\n"
     ]
    }
   ],
   "source": [
    "#Female Avg Total Purchase per Person\n",
    "female_avg_total=(female_total/female_count)\n",
    "print(female_avg_total)"
   ]
  },
  {
   "cell_type": "code",
   "execution_count": 30,
   "metadata": {},
   "outputs": [
    {
     "name": "stdout",
     "output_type": "stream",
     "text": [
      "4.065371900826446\n"
     ]
    }
   ],
   "source": [
    "#Male Avg Total Purchase per Person\n",
    "male_avg_total=(male_total/male_count)\n",
    "print(male_avg_total)"
   ]
  },
  {
   "cell_type": "code",
   "execution_count": 31,
   "metadata": {},
   "outputs": [
    {
     "name": "stdout",
     "output_type": "stream",
     "text": [
      "4.5627272727272725\n"
     ]
    }
   ],
   "source": [
    "#Other/Non-Disclosed Avg Total Purchase per Person\n",
    "other_avg_total=(other_total/other_count)\n",
    "print(other_avg_total)"
   ]
  },
  {
   "cell_type": "code",
   "execution_count": 32,
   "metadata": {},
   "outputs": [
    {
     "data": {
      "text/html": [
       "<style  type=\"text/css\" >\n",
       "</style><table id=\"T_563dec98_df88_11eb_b553_ac2b6ea6194e\" ><thead>    <tr>        <th class=\"blank level0\" ></th>        <th class=\"col_heading level0 col0\" >Purchase Count</th>        <th class=\"col_heading level0 col1\" >Average Purchase Price</th>        <th class=\"col_heading level0 col2\" >Total Purchase Value</th>        <th class=\"col_heading level0 col3\" >Average Total Purchase per Person</th>    </tr></thead><tbody>\n",
       "                <tr>\n",
       "                        <th id=\"T_563dec98_df88_11eb_b553_ac2b6ea6194elevel0_row0\" class=\"row_heading level0 row0\" >Male</th>\n",
       "                        <td id=\"T_563dec98_df88_11eb_b553_ac2b6ea6194erow0_col0\" class=\"data row0 col0\" >113</td>\n",
       "                        <td id=\"T_563dec98_df88_11eb_b553_ac2b6ea6194erow0_col1\" class=\"data row0 col1\" >$3.20</td>\n",
       "                        <td id=\"T_563dec98_df88_11eb_b553_ac2b6ea6194erow0_col2\" class=\"data row0 col2\" >$361.94</td>\n",
       "                        <td id=\"T_563dec98_df88_11eb_b553_ac2b6ea6194erow0_col3\" class=\"data row0 col3\" >$4.47</td>\n",
       "            </tr>\n",
       "            <tr>\n",
       "                        <th id=\"T_563dec98_df88_11eb_b553_ac2b6ea6194elevel0_row1\" class=\"row_heading level0 row1\" >Female</th>\n",
       "                        <td id=\"T_563dec98_df88_11eb_b553_ac2b6ea6194erow1_col0\" class=\"data row1 col0\" >652</td>\n",
       "                        <td id=\"T_563dec98_df88_11eb_b553_ac2b6ea6194erow1_col1\" class=\"data row1 col1\" >$3.02</td>\n",
       "                        <td id=\"T_563dec98_df88_11eb_b553_ac2b6ea6194erow1_col2\" class=\"data row1 col2\" >$1,967.64</td>\n",
       "                        <td id=\"T_563dec98_df88_11eb_b553_ac2b6ea6194erow1_col3\" class=\"data row1 col3\" >$4.07</td>\n",
       "            </tr>\n",
       "            <tr>\n",
       "                        <th id=\"T_563dec98_df88_11eb_b553_ac2b6ea6194elevel0_row2\" class=\"row_heading level0 row2\" >Other / Non-Disclosed</th>\n",
       "                        <td id=\"T_563dec98_df88_11eb_b553_ac2b6ea6194erow2_col0\" class=\"data row2 col0\" >15</td>\n",
       "                        <td id=\"T_563dec98_df88_11eb_b553_ac2b6ea6194erow2_col1\" class=\"data row2 col1\" >$3.35</td>\n",
       "                        <td id=\"T_563dec98_df88_11eb_b553_ac2b6ea6194erow2_col2\" class=\"data row2 col2\" >$50.19</td>\n",
       "                        <td id=\"T_563dec98_df88_11eb_b553_ac2b6ea6194erow2_col3\" class=\"data row2 col3\" >$4.56</td>\n",
       "            </tr>\n",
       "    </tbody></table>"
      ],
      "text/plain": [
       "<pandas.io.formats.style.Styler at 0x24de0d79588>"
      ]
     },
     "execution_count": 32,
     "metadata": {},
     "output_type": "execute_result"
    }
   ],
   "source": [
    "#DataFrame For Purchasing Analysis Broken Down By Gender\n",
    "purchasing_df = pd.DataFrame({\"Purchase Count\":[female_purchase,male_purchase,other_purchase],\"Average Purchase Price\":[female_avg,male_avg,other_avg],\"Total Purchase Value\":[female_total, male_total ,other_total],\"Average Total Purchase per Person\":[female_avg_total, male_avg_total, other_avg_total]},index=[\"Male\",\"Female\",\"Other / Non-Disclosed\"])\n",
    "purchasing_df\n",
    "purchasing_df.style.format({\"Average Purchase Price\": \"${:,.2f}\",\"Total Purchase Value\":\"${:,.2f}\",\"Average Total Purchase per Person\":\"${:,.2f}\"})"
   ]
  },
  {
   "cell_type": "code",
   "execution_count": 33,
   "metadata": {},
   "outputs": [],
   "source": [
    "#Create bins for ages\n",
    "age_bins = [0, 9.90, 14.90, 19.90, 24.90, 29.90, 34.90, 39.90, 99999]\n",
    "#Create names for bins\n",
    "group_names = [\"<10\", \"10-14\", \"15-19\", \"20-24\", \"25-29\", \"30-34\", \"35-39\", \"40+\"]"
   ]
  },
  {
   "cell_type": "code",
   "execution_count": 34,
   "metadata": {
    "scrolled": true
   },
   "outputs": [
    {
     "data": {
      "text/html": [
       "<div>\n",
       "<style scoped>\n",
       "    .dataframe tbody tr th:only-of-type {\n",
       "        vertical-align: middle;\n",
       "    }\n",
       "\n",
       "    .dataframe tbody tr th {\n",
       "        vertical-align: top;\n",
       "    }\n",
       "\n",
       "    .dataframe thead th {\n",
       "        text-align: right;\n",
       "    }\n",
       "</style>\n",
       "<table border=\"1\" class=\"dataframe\">\n",
       "  <thead>\n",
       "    <tr style=\"text-align: right;\">\n",
       "      <th></th>\n",
       "      <th>Purchase ID</th>\n",
       "      <th>SN</th>\n",
       "      <th>Age</th>\n",
       "      <th>Gender</th>\n",
       "      <th>Item ID</th>\n",
       "      <th>Item Name</th>\n",
       "      <th>Price</th>\n",
       "      <th>Age Group</th>\n",
       "    </tr>\n",
       "  </thead>\n",
       "  <tbody>\n",
       "    <tr>\n",
       "      <th>0</th>\n",
       "      <td>0</td>\n",
       "      <td>Lisim78</td>\n",
       "      <td>20</td>\n",
       "      <td>Male</td>\n",
       "      <td>108</td>\n",
       "      <td>Extraction, Quickblade Of Trembling Hands</td>\n",
       "      <td>3.53</td>\n",
       "      <td>20-24</td>\n",
       "    </tr>\n",
       "    <tr>\n",
       "      <th>1</th>\n",
       "      <td>1</td>\n",
       "      <td>Lisovynya38</td>\n",
       "      <td>40</td>\n",
       "      <td>Male</td>\n",
       "      <td>143</td>\n",
       "      <td>Frenzied Scimitar</td>\n",
       "      <td>1.56</td>\n",
       "      <td>40+</td>\n",
       "    </tr>\n",
       "    <tr>\n",
       "      <th>2</th>\n",
       "      <td>2</td>\n",
       "      <td>Ithergue48</td>\n",
       "      <td>24</td>\n",
       "      <td>Male</td>\n",
       "      <td>92</td>\n",
       "      <td>Final Critic</td>\n",
       "      <td>4.88</td>\n",
       "      <td>20-24</td>\n",
       "    </tr>\n",
       "    <tr>\n",
       "      <th>3</th>\n",
       "      <td>3</td>\n",
       "      <td>Chamassasya86</td>\n",
       "      <td>24</td>\n",
       "      <td>Male</td>\n",
       "      <td>100</td>\n",
       "      <td>Blindscythe</td>\n",
       "      <td>3.27</td>\n",
       "      <td>20-24</td>\n",
       "    </tr>\n",
       "    <tr>\n",
       "      <th>4</th>\n",
       "      <td>4</td>\n",
       "      <td>Iskosia90</td>\n",
       "      <td>23</td>\n",
       "      <td>Male</td>\n",
       "      <td>131</td>\n",
       "      <td>Fury</td>\n",
       "      <td>1.44</td>\n",
       "      <td>20-24</td>\n",
       "    </tr>\n",
       "  </tbody>\n",
       "</table>\n",
       "</div>"
      ],
      "text/plain": [
       "   Purchase ID             SN  Age Gender  Item ID  \\\n",
       "0            0        Lisim78   20   Male      108   \n",
       "1            1    Lisovynya38   40   Male      143   \n",
       "2            2     Ithergue48   24   Male       92   \n",
       "3            3  Chamassasya86   24   Male      100   \n",
       "4            4      Iskosia90   23   Male      131   \n",
       "\n",
       "                                   Item Name  Price Age Group  \n",
       "0  Extraction, Quickblade Of Trembling Hands   3.53     20-24  \n",
       "1                          Frenzied Scimitar   1.56       40+  \n",
       "2                               Final Critic   4.88     20-24  \n",
       "3                                Blindscythe   3.27     20-24  \n",
       "4                                       Fury   1.44     20-24  "
      ]
     },
     "execution_count": 34,
     "metadata": {},
     "output_type": "execute_result"
    }
   ],
   "source": [
    "\n",
    "purchase_file_df[\"Age Group\"]=pd.cut(purchase_file_df[\"Age\"], age_bins, labels=group_names)\n",
    "\n",
    "purchase_file_df.head()"
   ]
  },
  {
   "cell_type": "code",
   "execution_count": 35,
   "metadata": {},
   "outputs": [
    {
     "name": "stdout",
     "output_type": "stream",
     "text": [
      "           Purchase ID   SN  Age  Gender  Item ID  Item Name  Price\n",
      "Age Group                                                          \n",
      "<10                 23   23   23      23       23         23     23\n",
      "10-14               28   28   28      28       28         28     28\n",
      "15-19              136  136  136     136      136        136    136\n",
      "20-24              365  365  365     365      365        365    365\n",
      "25-29              101  101  101     101      101        101    101\n",
      "30-34               73   73   73      73       73         73     73\n",
      "35-39               41   41   41      41       41         41     41\n",
      "40+                 13   13   13      13       13         13     13\n"
     ]
    }
   ],
   "source": [
    "purchase_group =(purchase_file_df.groupby(\"Age Group\"))\n",
    "print(purchase_group.count())\n"
   ]
  },
  {
   "cell_type": "code",
   "execution_count": 36,
   "metadata": {},
   "outputs": [
    {
     "name": "stdout",
     "output_type": "stream",
     "text": [
      "12\n"
     ]
    }
   ],
   "source": [
    "#Total Count of Players for Different Age Groups\n",
    "age_under_10 =len(purchase_file_df.loc[purchase_file_df[\"Age Group\"]==\"<10\",\"SN\"].value_counts())\n",
    "age_10_14 =len(purchase_file_df.loc[purchase_file_df[\"Age Group\"]==\"10-14\",\"SN\"].value_counts())  \n",
    "age_15_19 =len(purchase_file_df.loc[purchase_file_df[\"Age Group\"]==\"15-19\",\"SN\"].value_counts())\n",
    "age_20_24 =len(purchase_file_df.loc[purchase_file_df[\"Age Group\"]==\"20-24\",\"SN\"].value_counts())\n",
    "age_25_29 =len(purchase_file_df.loc[purchase_file_df[\"Age Group\"]==\"25-29\",\"SN\"].value_counts())\n",
    "age_30_34 =len(purchase_file_df.loc[purchase_file_df[\"Age Group\"]==\"30-34\",\"SN\"].value_counts())\n",
    "age_35_39 =len(purchase_file_df.loc[purchase_file_df[\"Age Group\"]==\"35-39\",\"SN\"].value_counts())\n",
    "age_40 =len(purchase_file_df.loc[purchase_file_df[\"Age Group\"]==\"40+\",\"SN\"].value_counts())\n",
    "print(age_40)\n"
   ]
  },
  {
   "cell_type": "code",
   "execution_count": 37,
   "metadata": {},
   "outputs": [
    {
     "name": "stdout",
     "output_type": "stream",
     "text": [
      "2.083333333333333\n"
     ]
    }
   ],
   "source": [
    "#Percentage of Players for Various Age Groups\n",
    "percent_under_10 = (age_under_10/Total_Players)*100\n",
    "percent_10_14 = (age_10_14/Total_Players)*100\n",
    "percent_15_19 = (age_15_19/Total_Players)*100\n",
    "percent_20_24 = (age_20_24/Total_Players)*100\n",
    "percent_25_29 = (age_25_29/Total_Players)*100\n",
    "percent_30_34 = (age_30_34/Total_Players)*100\n",
    "percent_35_39 = (age_35_39/Total_Players)*100\n",
    "percent_40 =(age_40/Total_Players)*100\n",
    "print(percent_40)"
   ]
  },
  {
   "cell_type": "code",
   "execution_count": 38,
   "metadata": {},
   "outputs": [
    {
     "data": {
      "text/html": [
       "<style  type=\"text/css\" >\n",
       "</style><table id=\"T_57113d3e_df88_11eb_b639_ac2b6ea6194e\" ><thead>    <tr>        <th class=\"blank level0\" ></th>        <th class=\"col_heading level0 col0\" >Total Count</th>        <th class=\"col_heading level0 col1\" >Percentage Of Players</th>    </tr></thead><tbody>\n",
       "                <tr>\n",
       "                        <th id=\"T_57113d3e_df88_11eb_b639_ac2b6ea6194elevel0_row0\" class=\"row_heading level0 row0\" ><10</th>\n",
       "                        <td id=\"T_57113d3e_df88_11eb_b639_ac2b6ea6194erow0_col0\" class=\"data row0 col0\" >17</td>\n",
       "                        <td id=\"T_57113d3e_df88_11eb_b639_ac2b6ea6194erow0_col1\" class=\"data row0 col1\" >2.95%</td>\n",
       "            </tr>\n",
       "            <tr>\n",
       "                        <th id=\"T_57113d3e_df88_11eb_b639_ac2b6ea6194elevel0_row1\" class=\"row_heading level0 row1\" >10-14</th>\n",
       "                        <td id=\"T_57113d3e_df88_11eb_b639_ac2b6ea6194erow1_col0\" class=\"data row1 col0\" >22</td>\n",
       "                        <td id=\"T_57113d3e_df88_11eb_b639_ac2b6ea6194erow1_col1\" class=\"data row1 col1\" >3.82%</td>\n",
       "            </tr>\n",
       "            <tr>\n",
       "                        <th id=\"T_57113d3e_df88_11eb_b639_ac2b6ea6194elevel0_row2\" class=\"row_heading level0 row2\" >15-19</th>\n",
       "                        <td id=\"T_57113d3e_df88_11eb_b639_ac2b6ea6194erow2_col0\" class=\"data row2 col0\" >107</td>\n",
       "                        <td id=\"T_57113d3e_df88_11eb_b639_ac2b6ea6194erow2_col1\" class=\"data row2 col1\" >18.58%</td>\n",
       "            </tr>\n",
       "            <tr>\n",
       "                        <th id=\"T_57113d3e_df88_11eb_b639_ac2b6ea6194elevel0_row3\" class=\"row_heading level0 row3\" >20-24</th>\n",
       "                        <td id=\"T_57113d3e_df88_11eb_b639_ac2b6ea6194erow3_col0\" class=\"data row3 col0\" >258</td>\n",
       "                        <td id=\"T_57113d3e_df88_11eb_b639_ac2b6ea6194erow3_col1\" class=\"data row3 col1\" >44.79%</td>\n",
       "            </tr>\n",
       "            <tr>\n",
       "                        <th id=\"T_57113d3e_df88_11eb_b639_ac2b6ea6194elevel0_row4\" class=\"row_heading level0 row4\" >25-29</th>\n",
       "                        <td id=\"T_57113d3e_df88_11eb_b639_ac2b6ea6194erow4_col0\" class=\"data row4 col0\" >77</td>\n",
       "                        <td id=\"T_57113d3e_df88_11eb_b639_ac2b6ea6194erow4_col1\" class=\"data row4 col1\" >13.37%</td>\n",
       "            </tr>\n",
       "            <tr>\n",
       "                        <th id=\"T_57113d3e_df88_11eb_b639_ac2b6ea6194elevel0_row5\" class=\"row_heading level0 row5\" >30-34</th>\n",
       "                        <td id=\"T_57113d3e_df88_11eb_b639_ac2b6ea6194erow5_col0\" class=\"data row5 col0\" >52</td>\n",
       "                        <td id=\"T_57113d3e_df88_11eb_b639_ac2b6ea6194erow5_col1\" class=\"data row5 col1\" >9.03%</td>\n",
       "            </tr>\n",
       "            <tr>\n",
       "                        <th id=\"T_57113d3e_df88_11eb_b639_ac2b6ea6194elevel0_row6\" class=\"row_heading level0 row6\" >35-39</th>\n",
       "                        <td id=\"T_57113d3e_df88_11eb_b639_ac2b6ea6194erow6_col0\" class=\"data row6 col0\" >31</td>\n",
       "                        <td id=\"T_57113d3e_df88_11eb_b639_ac2b6ea6194erow6_col1\" class=\"data row6 col1\" >5.38%</td>\n",
       "            </tr>\n",
       "            <tr>\n",
       "                        <th id=\"T_57113d3e_df88_11eb_b639_ac2b6ea6194elevel0_row7\" class=\"row_heading level0 row7\" >40+</th>\n",
       "                        <td id=\"T_57113d3e_df88_11eb_b639_ac2b6ea6194erow7_col0\" class=\"data row7 col0\" >12</td>\n",
       "                        <td id=\"T_57113d3e_df88_11eb_b639_ac2b6ea6194erow7_col1\" class=\"data row7 col1\" >2.08%</td>\n",
       "            </tr>\n",
       "    </tbody></table>"
      ],
      "text/plain": [
       "<pandas.io.formats.style.Styler at 0x24de0d79438>"
      ]
     },
     "execution_count": 38,
     "metadata": {},
     "output_type": "execute_result"
    }
   ],
   "source": [
    "age_df = pd.DataFrame({\"Total Count\":[age_under_10,age_10_14,age_15_19,age_20_24,age_25_29,age_30_34,age_35_39,age_40],\"Percentage Of Players\":[percent_under_10,percent_10_14,percent_15_19,percent_20_24,percent_25_29,percent_30_34,percent_35_39,percent_40]},index=[\"<10\",\"10-14\", \"15-19\", \"20-24\", \"25-29\", \"30-34\", \"35-39\", \"40+\"],)\n",
    "age_df\n",
    "age_df.style.format({\"Percentage Of Players\": \"{:,.2f}%\"})"
   ]
  },
  {
   "cell_type": "code",
   "execution_count": 39,
   "metadata": {},
   "outputs": [
    {
     "name": "stdout",
     "output_type": "stream",
     "text": [
      "13\n"
     ]
    }
   ],
   "source": [
    "#Purchase Count Of Players For Various Age Groups\n",
    "purchase_under_10 = (purchase_file_df.loc[purchase_file_df[\"Age Group\"]==\"<10\",\"Price\"].count())\n",
    "purchase_10_14 = (purchase_file_df.loc[purchase_file_df[\"Age Group\"]==\"10-14\",\"Price\"].count())\n",
    "purchase_15_19 = (purchase_file_df.loc[purchase_file_df[\"Age Group\"]==\"15-19\",\"Price\"].count())\n",
    "purchase_20_24 = (purchase_file_df.loc[purchase_file_df[\"Age Group\"]==\"20-24\",\"Price\"].count())\n",
    "purchase_25_29 = (purchase_file_df.loc[purchase_file_df[\"Age Group\"]==\"25-29\",\"Price\"].count())\n",
    "purchase_30_34 = (purchase_file_df.loc[purchase_file_df[\"Age Group\"]==\"30-34\",\"Price\"].count())\n",
    "purchase_35_39 = (purchase_file_df.loc[purchase_file_df[\"Age Group\"]==\"35-39\",\"Price\"].count())\n",
    "purchase_40 = (purchase_file_df.loc[purchase_file_df[\"Age Group\"]==\"40+\",\"Price\"].count())\n",
    "print(purchase_40)\n",
    "\n",
    "\n",
    "\n",
    "\n",
    "\n",
    "\n"
   ]
  },
  {
   "cell_type": "code",
   "execution_count": 40,
   "metadata": {},
   "outputs": [
    {
     "name": "stdout",
     "output_type": "stream",
     "text": [
      "2.9009900990099005\n"
     ]
    }
   ],
   "source": [
    "#Average Purchase Price For Various Age Groups\n",
    "avg_under_10 = (purchase_file_df.loc[purchase_file_df[\"Age Group\"]==\"<10\",\"Price\"].mean())\n",
    "avg_10_14 = (purchase_file_df.loc[purchase_file_df[\"Age Group\"]==\"10-14\",\"Price\"].mean())\n",
    "avg_15_19 = (purchase_file_df.loc[purchase_file_df[\"Age Group\"]==\"15-19\",\"Price\"].mean())\n",
    "avg_20_24 = (purchase_file_df.loc[purchase_file_df[\"Age Group\"]==\"20-24\",\"Price\"].mean())\n",
    "avg_25_29 = (purchase_file_df.loc[purchase_file_df[\"Age Group\"]==\"25-29\",\"Price\"].mean())\n",
    "avg_30_34 = (purchase_file_df.loc[purchase_file_df[\"Age Group\"]==\"30-34\",\"Price\"].mean())\n",
    "avg_35_39 = (purchase_file_df.loc[purchase_file_df[\"Age Group\"]==\"35-39\",\"Price\"].mean())\n",
    "avg_40 = (purchase_file_df.loc[purchase_file_df[\"Age Group\"]==\"40+\",\"Price\"].mean())\n",
    "print(avg_25_29)\n"
   ]
  },
  {
   "cell_type": "code",
   "execution_count": 41,
   "metadata": {},
   "outputs": [
    {
     "name": "stdout",
     "output_type": "stream",
     "text": [
      "38.24\n"
     ]
    }
   ],
   "source": [
    "#Total Purchase Value For Various Age Group\n",
    "total_under_10 = (purchase_file_df.loc[purchase_file_df[\"Age Group\"]==\"<10\",\"Price\"].sum())\n",
    "total_10_14 = (purchase_file_df.loc[purchase_file_df[\"Age Group\"]==\"10-14\",\"Price\"].sum())\n",
    "total_15_19 = (purchase_file_df.loc[purchase_file_df[\"Age Group\"]==\"15-19\",\"Price\"].sum())\n",
    "total_20_24 = (purchase_file_df.loc[purchase_file_df[\"Age Group\"]==\"20-24\",\"Price\"].sum())\n",
    "total_25_29 = (purchase_file_df.loc[purchase_file_df[\"Age Group\"]==\"25-29\",\"Price\"].sum())\n",
    "total_30_34 = (purchase_file_df.loc[purchase_file_df[\"Age Group\"]==\"30-34\",\"Price\"].sum())\n",
    "total_35_39 = (purchase_file_df.loc[purchase_file_df[\"Age Group\"]==\"35-39\",\"Price\"].sum())\n",
    "total_40 = (purchase_file_df.loc[purchase_file_df[\"Age Group\"]==\"40+\",\"Price\"].sum())\n",
    "print(total_40)"
   ]
  },
  {
   "cell_type": "code",
   "execution_count": 42,
   "metadata": {},
   "outputs": [
    {
     "name": "stdout",
     "output_type": "stream",
     "text": [
      "3.186666666666667\n"
     ]
    }
   ],
   "source": [
    "#Avg Total Purchase per Person\n",
    "avg_total_under_10 = total_under_10/age_under_10\n",
    "avg_total_10_14 = total_10_14/age_10_14\n",
    "avg_total_15_19 = total_15_19/age_15_19\n",
    "avg_total_20_24 = total_20_24/age_20_24\n",
    "avg_total_25_29 = total_25_29/age_25_29\n",
    "avg_total_30_34 = total_30_34/age_30_34\n",
    "avg_total_35_39 = total_35_39/age_35_39\n",
    "avg_total_40 = total_40/age_40\n",
    "print(avg_total_40)"
   ]
  },
  {
   "cell_type": "code",
   "execution_count": 43,
   "metadata": {},
   "outputs": [
    {
     "data": {
      "text/html": [
       "<style  type=\"text/css\" >\n",
       "</style><table id=\"T_57999548_df88_11eb_9bd1_ac2b6ea6194e\" ><thead>    <tr>        <th class=\"blank level0\" ></th>        <th class=\"col_heading level0 col0\" >Purchase Count</th>        <th class=\"col_heading level0 col1\" >Average Purchase Price</th>        <th class=\"col_heading level0 col2\" >Total Purchase Value</th>        <th class=\"col_heading level0 col3\" >Avg Total Purchase per Person</th>    </tr></thead><tbody>\n",
       "                <tr>\n",
       "                        <th id=\"T_57999548_df88_11eb_9bd1_ac2b6ea6194elevel0_row0\" class=\"row_heading level0 row0\" ><10</th>\n",
       "                        <td id=\"T_57999548_df88_11eb_9bd1_ac2b6ea6194erow0_col0\" class=\"data row0 col0\" >23</td>\n",
       "                        <td id=\"T_57999548_df88_11eb_9bd1_ac2b6ea6194erow0_col1\" class=\"data row0 col1\" >3.35%</td>\n",
       "                        <td id=\"T_57999548_df88_11eb_9bd1_ac2b6ea6194erow0_col2\" class=\"data row0 col2\" >77.13%</td>\n",
       "                        <td id=\"T_57999548_df88_11eb_9bd1_ac2b6ea6194erow0_col3\" class=\"data row0 col3\" >4.54%</td>\n",
       "            </tr>\n",
       "            <tr>\n",
       "                        <th id=\"T_57999548_df88_11eb_9bd1_ac2b6ea6194elevel0_row1\" class=\"row_heading level0 row1\" >10-14</th>\n",
       "                        <td id=\"T_57999548_df88_11eb_9bd1_ac2b6ea6194erow1_col0\" class=\"data row1 col0\" >28</td>\n",
       "                        <td id=\"T_57999548_df88_11eb_9bd1_ac2b6ea6194erow1_col1\" class=\"data row1 col1\" >2.96%</td>\n",
       "                        <td id=\"T_57999548_df88_11eb_9bd1_ac2b6ea6194erow1_col2\" class=\"data row1 col2\" >82.78%</td>\n",
       "                        <td id=\"T_57999548_df88_11eb_9bd1_ac2b6ea6194erow1_col3\" class=\"data row1 col3\" >3.76%</td>\n",
       "            </tr>\n",
       "            <tr>\n",
       "                        <th id=\"T_57999548_df88_11eb_9bd1_ac2b6ea6194elevel0_row2\" class=\"row_heading level0 row2\" >15-19</th>\n",
       "                        <td id=\"T_57999548_df88_11eb_9bd1_ac2b6ea6194erow2_col0\" class=\"data row2 col0\" >136</td>\n",
       "                        <td id=\"T_57999548_df88_11eb_9bd1_ac2b6ea6194erow2_col1\" class=\"data row2 col1\" >3.04%</td>\n",
       "                        <td id=\"T_57999548_df88_11eb_9bd1_ac2b6ea6194erow2_col2\" class=\"data row2 col2\" >412.89%</td>\n",
       "                        <td id=\"T_57999548_df88_11eb_9bd1_ac2b6ea6194erow2_col3\" class=\"data row2 col3\" >3.86%</td>\n",
       "            </tr>\n",
       "            <tr>\n",
       "                        <th id=\"T_57999548_df88_11eb_9bd1_ac2b6ea6194elevel0_row3\" class=\"row_heading level0 row3\" >20-24</th>\n",
       "                        <td id=\"T_57999548_df88_11eb_9bd1_ac2b6ea6194erow3_col0\" class=\"data row3 col0\" >365</td>\n",
       "                        <td id=\"T_57999548_df88_11eb_9bd1_ac2b6ea6194erow3_col1\" class=\"data row3 col1\" >3.05%</td>\n",
       "                        <td id=\"T_57999548_df88_11eb_9bd1_ac2b6ea6194erow3_col2\" class=\"data row3 col2\" >1,114.06%</td>\n",
       "                        <td id=\"T_57999548_df88_11eb_9bd1_ac2b6ea6194erow3_col3\" class=\"data row3 col3\" >4.32%</td>\n",
       "            </tr>\n",
       "            <tr>\n",
       "                        <th id=\"T_57999548_df88_11eb_9bd1_ac2b6ea6194elevel0_row4\" class=\"row_heading level0 row4\" >25-29</th>\n",
       "                        <td id=\"T_57999548_df88_11eb_9bd1_ac2b6ea6194erow4_col0\" class=\"data row4 col0\" >101</td>\n",
       "                        <td id=\"T_57999548_df88_11eb_9bd1_ac2b6ea6194erow4_col1\" class=\"data row4 col1\" >2.90%</td>\n",
       "                        <td id=\"T_57999548_df88_11eb_9bd1_ac2b6ea6194erow4_col2\" class=\"data row4 col2\" >293.00%</td>\n",
       "                        <td id=\"T_57999548_df88_11eb_9bd1_ac2b6ea6194erow4_col3\" class=\"data row4 col3\" >3.81%</td>\n",
       "            </tr>\n",
       "            <tr>\n",
       "                        <th id=\"T_57999548_df88_11eb_9bd1_ac2b6ea6194elevel0_row5\" class=\"row_heading level0 row5\" >30-34</th>\n",
       "                        <td id=\"T_57999548_df88_11eb_9bd1_ac2b6ea6194erow5_col0\" class=\"data row5 col0\" >73</td>\n",
       "                        <td id=\"T_57999548_df88_11eb_9bd1_ac2b6ea6194erow5_col1\" class=\"data row5 col1\" >2.93%</td>\n",
       "                        <td id=\"T_57999548_df88_11eb_9bd1_ac2b6ea6194erow5_col2\" class=\"data row5 col2\" >214.00%</td>\n",
       "                        <td id=\"T_57999548_df88_11eb_9bd1_ac2b6ea6194erow5_col3\" class=\"data row5 col3\" >4.12%</td>\n",
       "            </tr>\n",
       "            <tr>\n",
       "                        <th id=\"T_57999548_df88_11eb_9bd1_ac2b6ea6194elevel0_row6\" class=\"row_heading level0 row6\" >35-39</th>\n",
       "                        <td id=\"T_57999548_df88_11eb_9bd1_ac2b6ea6194erow6_col0\" class=\"data row6 col0\" >41</td>\n",
       "                        <td id=\"T_57999548_df88_11eb_9bd1_ac2b6ea6194erow6_col1\" class=\"data row6 col1\" >3.60%</td>\n",
       "                        <td id=\"T_57999548_df88_11eb_9bd1_ac2b6ea6194erow6_col2\" class=\"data row6 col2\" >147.67%</td>\n",
       "                        <td id=\"T_57999548_df88_11eb_9bd1_ac2b6ea6194erow6_col3\" class=\"data row6 col3\" >4.76%</td>\n",
       "            </tr>\n",
       "            <tr>\n",
       "                        <th id=\"T_57999548_df88_11eb_9bd1_ac2b6ea6194elevel0_row7\" class=\"row_heading level0 row7\" >40+</th>\n",
       "                        <td id=\"T_57999548_df88_11eb_9bd1_ac2b6ea6194erow7_col0\" class=\"data row7 col0\" >13</td>\n",
       "                        <td id=\"T_57999548_df88_11eb_9bd1_ac2b6ea6194erow7_col1\" class=\"data row7 col1\" >2.94%</td>\n",
       "                        <td id=\"T_57999548_df88_11eb_9bd1_ac2b6ea6194erow7_col2\" class=\"data row7 col2\" >38.24%</td>\n",
       "                        <td id=\"T_57999548_df88_11eb_9bd1_ac2b6ea6194erow7_col3\" class=\"data row7 col3\" >3.19%</td>\n",
       "            </tr>\n",
       "    </tbody></table>"
      ],
      "text/plain": [
       "<pandas.io.formats.style.Styler at 0x24de0dbd198>"
      ]
     },
     "execution_count": 43,
     "metadata": {},
     "output_type": "execute_result"
    }
   ],
   "source": [
    "age_range_df = pd.DataFrame({\"Purchase Count\":[purchase_under_10,purchase_10_14,purchase_15_19,purchase_20_24,purchase_25_29,purchase_30_34,purchase_35_39,purchase_40],\"Average Purchase Price\":[avg_under_10,avg_10_14,avg_15_19,avg_20_24,avg_25_29,avg_30_34,avg_35_39,avg_40],\"Total Purchase Value\":[total_under_10,total_10_14,total_15_19,total_20_24,total_25_29,total_30_34,total_35_39,total_40],\"Avg Total Purchase per Person\":[avg_total_under_10,avg_total_10_14,avg_total_15_19,avg_total_20_24,avg_total_25_29,avg_total_30_34,avg_total_35_39,avg_total_40]}, index=[\"<10\",\"10-14\", \"15-19\", \"20-24\", \"25-29\", \"30-34\", \"35-39\", \"40+\"],)\n",
    "age_range_df\n",
    "age_range_df.style.format({\"Average Purchase Price\": \"{:,.2f}%\",\"Total Purchase Value\": \"{:,.2f}%\",\"Avg Total Purchase per Person\": \"{:,.2f}%\"})"
   ]
  },
  {
   "cell_type": "code",
   "execution_count": null,
   "metadata": {},
   "outputs": [],
   "source": []
  }
 ],
 "metadata": {
  "celltoolbar": "Slideshow",
  "kernelspec": {
   "display_name": "Python [conda env:PythonData] *",
   "language": "python",
   "name": "conda-env-PythonData-py"
  },
  "language_info": {
   "codemirror_mode": {
    "name": "ipython",
    "version": 3
   },
   "file_extension": ".py",
   "mimetype": "text/x-python",
   "name": "python",
   "nbconvert_exporter": "python",
   "pygments_lexer": "ipython3",
   "version": "3.6.13"
  }
 },
 "nbformat": 4,
 "nbformat_minor": 4
}
